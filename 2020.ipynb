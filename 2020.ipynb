{
 "cells": [
  {
   "cell_type": "code",
   "execution_count": 9,
   "metadata": {},
   "outputs": [
    {
     "name": "stderr",
     "output_type": "stream",
     "text": [
      "C:\\Users\\NDUKWE\\AppData\\Local\\Temp\\ipykernel_8568\\627292624.py:6: DtypeWarning: Columns (0,14,17,19,26) have mixed types. Specify dtype option on import or set low_memory=False.\n",
      "  df = pd.read_csv('cms_hospital_patient_satisfaction_2020.csv')\n"
     ]
    }
   ],
   "source": [
    "import pandas as pd\n",
    "import numpy as np\n",
    "import matplotlib.pyplot as plt\n",
    "import seaborn as sb\n",
    "%matplotlib inline \n",
    "df = pd.read_csv('cms_hospital_patient_satisfaction_2020.csv')"
   ]
  },
  {
   "cell_type": "code",
   "execution_count": 10,
   "metadata": {},
   "outputs": [
    {
     "data": {
      "text/plain": [
       "0           Y\n",
       "1           Y\n",
       "2           Y\n",
       "3           Y\n",
       "4           Y\n",
       "         ... \n",
       "442582    NaN\n",
       "442583    NaN\n",
       "442584    NaN\n",
       "442585    NaN\n",
       "442586    NaN\n",
       "Name: Meets criteria for promoting interoperability of EHRs, Length: 442587, dtype: object"
      ]
     },
     "execution_count": 10,
     "metadata": {},
     "output_type": "execute_result"
    }
   ],
   "source": [
    "df['Meets criteria for promoting interoperability of EHRs']"
   ]
  },
  {
   "cell_type": "code",
   "execution_count": 11,
   "metadata": {},
   "outputs": [],
   "source": [
    "# Handling missing data\n",
    "\n",
    "df['Meets criteria for promoting interoperability of EHRs'].fillna('N',inplace=True)"
   ]
  },
  {
   "cell_type": "code",
   "execution_count": 12,
   "metadata": {},
   "outputs": [
    {
     "data": {
      "text/plain": [
       "0         Y\n",
       "1         Y\n",
       "2         Y\n",
       "3         Y\n",
       "4         Y\n",
       "         ..\n",
       "442582    N\n",
       "442583    N\n",
       "442584    N\n",
       "442585    N\n",
       "442586    N\n",
       "Name: Meets criteria for promoting interoperability of EHRs, Length: 442587, dtype: object"
      ]
     },
     "execution_count": 12,
     "metadata": {},
     "output_type": "execute_result"
    }
   ],
   "source": [
    "df['Meets criteria for promoting interoperability of EHRs']"
   ]
  },
  {
   "cell_type": "code",
   "execution_count": 13,
   "metadata": {},
   "outputs": [],
   "source": [
    "# Dropping unneccasary columns \n",
    "df.drop('County Name', axis = 1, inplace=True)"
   ]
  },
  {
   "cell_type": "code",
   "execution_count": 14,
   "metadata": {},
   "outputs": [
    {
     "name": "stdout",
     "output_type": "stream",
     "text": [
      "Patient Survey Star Rating Footnote\n",
      "HCAHPS Answer Percent Footnote\n",
      "Number of Completed Surveys Footnote\n",
      "Survey Response Rate Percent Footnote\n",
      "Hospital overall rating footnote\n",
      "Mortality national comparison footnote\n",
      "Safety of care national comparison footnote\n",
      "Readmission national comparison footnote\n",
      "Patient experience national comparison footnote\n",
      "Effectiveness of care national comparison footnote\n",
      "Timeliness of care national comparison footnote\n",
      "Efficient use of medical imaging national comparison footnote\n"
     ]
    }
   ],
   "source": [
    "word1 = 'Footnote'\n",
    "word2 = 'footnote'\n",
    "\n",
    "for i in df.columns:\n",
    "    if word1 in i:\n",
    "        print(i)\n",
    "        df.drop(i, axis = 1, inplace= True)\n",
    "    elif word2 in i:\n",
    "        print(i)\n",
    "        df.drop(i, axis = 1, inplace= True) \n",
    "    else:\n",
    "        pass "
   ]
  },
  {
   "cell_type": "code",
   "execution_count": 15,
   "metadata": {},
   "outputs": [
    {
     "data": {
      "text/plain": [
       "Index(['Facility ID', 'Facility Name', 'Address', 'City', 'State', 'ZIP Code',\n",
       "       'Phone Number', 'HCAHPS Measure ID', 'HCAHPS Question',\n",
       "       'HCAHPS Answer Description', 'Patient Survey Star Rating',\n",
       "       'HCAHPS Answer Percent', 'HCAHPS Linear Mean Value',\n",
       "       'Number of Completed Surveys', 'Survey Response Rate Percent',\n",
       "       'Start Date', 'End Date', 'Year', 'Hospital Type', 'Hospital Ownership',\n",
       "       'Emergency Services',\n",
       "       'Meets criteria for promoting interoperability of EHRs',\n",
       "       'Hospital overall rating', 'Mortality national comparison',\n",
       "       'Safety of care national comparison', 'Readmission national comparison',\n",
       "       'Patient experience national comparison',\n",
       "       'Effectiveness of care national comparison',\n",
       "       'Timeliness of care national comparison',\n",
       "       'Efficient use of medical imaging national comparison'],\n",
       "      dtype='object')"
      ]
     },
     "execution_count": 15,
     "metadata": {},
     "output_type": "execute_result"
    }
   ],
   "source": [
    "df.columns"
   ]
  },
  {
   "cell_type": "code",
   "execution_count": 16,
   "metadata": {},
   "outputs": [],
   "source": [
    "df.to_csv('2020cleaned.csv')"
   ]
  }
 ],
 "metadata": {
  "kernelspec": {
   "display_name": "Python 3.10.5 64-bit",
   "language": "python",
   "name": "python3"
  },
  "language_info": {
   "codemirror_mode": {
    "name": "ipython",
    "version": 3
   },
   "file_extension": ".py",
   "mimetype": "text/x-python",
   "name": "python",
   "nbconvert_exporter": "python",
   "pygments_lexer": "ipython3",
   "version": "3.10.5"
  },
  "orig_nbformat": 4,
  "vscode": {
   "interpreter": {
    "hash": "3369b3a75f9b9f773b7395262b1c35dbdb20bc837bfadc97feb5ad4b64f8b5a0"
   }
  }
 },
 "nbformat": 4,
 "nbformat_minor": 2
}
